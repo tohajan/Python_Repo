{
  "cells": [
    {
      "cell_type": "markdown",
      "metadata": {
        "colab_type": "text",
        "id": "view-in-github"
      },
      "source": [
        "<a href=\"https://colab.research.google.com/github/tohajan/datasci/blob/main/depression.ipynb\" target=\"_parent\"><img src=\"https://colab.research.google.com/assets/colab-badge.svg\" alt=\"Open In Colab\"/></a>"
      ]
    },
    {
      "cell_type": "markdown",
      "metadata": {
        "id": "ygejEtADBXiN"
      },
      "source": [
        "# Model predicting depression using Sklearn's logistic regression"
      ]
    },
    {
      "cell_type": "code",
      "execution_count": null,
      "metadata": {
        "id": "coCROrniBXiP"
      },
      "outputs": [],
      "source": [
        "# import libraries and modules\n",
        "import pandas as pd\n",
        "import numpy as np\n",
        "import seaborn as sns\n",
        "import matplotlib.pyplot as plt\n",
        "\n",
        "from sklearn import metrics\n",
        "from sklearn.linear_model import LogisticRegression\n",
        "from sklearn.model_selection import train_test_split"
      ]
    },
    {
      "cell_type": "code",
      "execution_count": null,
      "metadata": {
        "id": "rRF6ejDWBXiQ"
      },
      "outputs": [],
      "source": [
        "depression = pd.read_stata(\"C:/Users/tohaj/Box/Programming/DataScience/DATA SETS/Depression/depression_data.dta\")"
      ]
    },
    {
      "cell_type": "code",
      "execution_count": null,
      "metadata": {
        "id": "zbPo6exsBXiQ",
        "outputId": "a888a279-cbc4-402b-ce97-3a125e1d50f9"
      },
      "outputs": [
        {
          "data": {
            "text/html": [
              "<div>\n",
              "<style scoped>\n",
              "    .dataframe tbody tr th:only-of-type {\n",
              "        vertical-align: middle;\n",
              "    }\n",
              "\n",
              "    .dataframe tbody tr th {\n",
              "        vertical-align: top;\n",
              "    }\n",
              "\n",
              "    .dataframe thead th {\n",
              "        text-align: right;\n",
              "    }\n",
              "</style>\n",
              "<table border=\"1\" class=\"dataframe\">\n",
              "  <thead>\n",
              "    <tr style=\"text-align: right;\">\n",
              "      <th></th>\n",
              "      <th>Nativity</th>\n",
              "      <th>Depression</th>\n",
              "      <th>Age</th>\n",
              "      <th>Gender</th>\n",
              "      <th>Education</th>\n",
              "      <th>Income</th>\n",
              "      <th>Marital</th>\n",
              "      <th>Health</th>\n",
              "      <th>Insurance</th>\n",
              "      <th>CitySize</th>\n",
              "      <th>Citizenship</th>\n",
              "      <th>Race</th>\n",
              "      <th>Region</th>\n",
              "    </tr>\n",
              "  </thead>\n",
              "  <tbody>\n",
              "    <tr>\n",
              "      <th>0</th>\n",
              "      <td>native-born</td>\n",
              "      <td>No</td>\n",
              "      <td>85</td>\n",
              "      <td>Male</td>\n",
              "      <td>4</td>\n",
              "      <td>8.75</td>\n",
              "      <td>Currently Married</td>\n",
              "      <td>4</td>\n",
              "      <td>Insured</td>\n",
              "      <td>2</td>\n",
              "      <td>Citizen</td>\n",
              "      <td>White</td>\n",
              "      <td>South</td>\n",
              "    </tr>\n",
              "    <tr>\n",
              "      <th>1</th>\n",
              "      <td>native-born</td>\n",
              "      <td>No</td>\n",
              "      <td>39</td>\n",
              "      <td>Male</td>\n",
              "      <td>4</td>\n",
              "      <td>6.25</td>\n",
              "      <td>Currently not married</td>\n",
              "      <td>4</td>\n",
              "      <td>Insured</td>\n",
              "      <td>2</td>\n",
              "      <td>Citizen</td>\n",
              "      <td>White</td>\n",
              "      <td>South</td>\n",
              "    </tr>\n",
              "    <tr>\n",
              "      <th>2</th>\n",
              "      <td>native-born</td>\n",
              "      <td>No</td>\n",
              "      <td>42</td>\n",
              "      <td>Male</td>\n",
              "      <td>3</td>\n",
              "      <td>8.75</td>\n",
              "      <td>Currently not married</td>\n",
              "      <td>3</td>\n",
              "      <td>Insured</td>\n",
              "      <td>2</td>\n",
              "      <td>Citizen</td>\n",
              "      <td>Black</td>\n",
              "      <td>South</td>\n",
              "    </tr>\n",
              "    <tr>\n",
              "      <th>3</th>\n",
              "      <td>native-born</td>\n",
              "      <td>No</td>\n",
              "      <td>32</td>\n",
              "      <td>Male</td>\n",
              "      <td>6</td>\n",
              "      <td>6.25</td>\n",
              "      <td>Currently not married</td>\n",
              "      <td>5</td>\n",
              "      <td>Insured</td>\n",
              "      <td>2</td>\n",
              "      <td>Citizen</td>\n",
              "      <td>Hispanic</td>\n",
              "      <td>South</td>\n",
              "    </tr>\n",
              "    <tr>\n",
              "      <th>4</th>\n",
              "      <td>native-born</td>\n",
              "      <td>Yes</td>\n",
              "      <td>85</td>\n",
              "      <td>Female</td>\n",
              "      <td>3</td>\n",
              "      <td>3.75</td>\n",
              "      <td>Currently not married</td>\n",
              "      <td>3</td>\n",
              "      <td>Insured</td>\n",
              "      <td>2</td>\n",
              "      <td>Citizen</td>\n",
              "      <td>White</td>\n",
              "      <td>South</td>\n",
              "    </tr>\n",
              "    <tr>\n",
              "      <th>5</th>\n",
              "      <td>native-born</td>\n",
              "      <td>Yes</td>\n",
              "      <td>70</td>\n",
              "      <td>Female</td>\n",
              "      <td>6</td>\n",
              "      <td>3.75</td>\n",
              "      <td>Currently not married</td>\n",
              "      <td>2</td>\n",
              "      <td>Insured</td>\n",
              "      <td>2</td>\n",
              "      <td>Citizen</td>\n",
              "      <td>White</td>\n",
              "      <td>South</td>\n",
              "    </tr>\n",
              "    <tr>\n",
              "      <th>6</th>\n",
              "      <td>native-born</td>\n",
              "      <td>No</td>\n",
              "      <td>32</td>\n",
              "      <td>Female</td>\n",
              "      <td>6</td>\n",
              "      <td>3.75</td>\n",
              "      <td>Currently Married</td>\n",
              "      <td>4</td>\n",
              "      <td>Insured</td>\n",
              "      <td>2</td>\n",
              "      <td>Citizen</td>\n",
              "      <td>White</td>\n",
              "      <td>South</td>\n",
              "    </tr>\n",
              "    <tr>\n",
              "      <th>7</th>\n",
              "      <td>native-born</td>\n",
              "      <td>No</td>\n",
              "      <td>77</td>\n",
              "      <td>Female</td>\n",
              "      <td>3</td>\n",
              "      <td>1.25</td>\n",
              "      <td>Currently not married</td>\n",
              "      <td>2</td>\n",
              "      <td>Insured</td>\n",
              "      <td>3</td>\n",
              "      <td>Citizen</td>\n",
              "      <td>Black</td>\n",
              "      <td>South</td>\n",
              "    </tr>\n",
              "    <tr>\n",
              "      <th>8</th>\n",
              "      <td>native-born</td>\n",
              "      <td>No</td>\n",
              "      <td>71</td>\n",
              "      <td>Male</td>\n",
              "      <td>5</td>\n",
              "      <td>3.75</td>\n",
              "      <td>Currently Married</td>\n",
              "      <td>4</td>\n",
              "      <td>Insured</td>\n",
              "      <td>3</td>\n",
              "      <td>Citizen</td>\n",
              "      <td>Black</td>\n",
              "      <td>South</td>\n",
              "    </tr>\n",
              "    <tr>\n",
              "      <th>9</th>\n",
              "      <td>native-born</td>\n",
              "      <td>Yes</td>\n",
              "      <td>69</td>\n",
              "      <td>Female</td>\n",
              "      <td>5</td>\n",
              "      <td>8.75</td>\n",
              "      <td>Currently Married</td>\n",
              "      <td>3</td>\n",
              "      <td>Insured</td>\n",
              "      <td>3</td>\n",
              "      <td>Citizen</td>\n",
              "      <td>White</td>\n",
              "      <td>South</td>\n",
              "    </tr>\n",
              "  </tbody>\n",
              "</table>\n",
              "</div>"
            ],
            "text/plain": [
              "      Nativity Depression  Age  Gender  Education  Income  \\\n",
              "0  native-born         No   85    Male          4    8.75   \n",
              "1  native-born         No   39    Male          4    6.25   \n",
              "2  native-born         No   42    Male          3    8.75   \n",
              "3  native-born         No   32    Male          6    6.25   \n",
              "4  native-born        Yes   85  Female          3    3.75   \n",
              "5  native-born        Yes   70  Female          6    3.75   \n",
              "6  native-born         No   32  Female          6    3.75   \n",
              "7  native-born         No   77  Female          3    1.25   \n",
              "8  native-born         No   71    Male          5    3.75   \n",
              "9  native-born        Yes   69  Female          5    8.75   \n",
              "\n",
              "                 Marital  Health Insurance  CitySize Citizenship      Race  \\\n",
              "0      Currently Married       4   Insured         2     Citizen     White   \n",
              "1  Currently not married       4   Insured         2     Citizen     White   \n",
              "2  Currently not married       3   Insured         2     Citizen     Black   \n",
              "3  Currently not married       5   Insured         2     Citizen  Hispanic   \n",
              "4  Currently not married       3   Insured         2     Citizen     White   \n",
              "5  Currently not married       2   Insured         2     Citizen     White   \n",
              "6      Currently Married       4   Insured         2     Citizen     White   \n",
              "7  Currently not married       2   Insured         3     Citizen     Black   \n",
              "8      Currently Married       4   Insured         3     Citizen     Black   \n",
              "9      Currently Married       3   Insured         3     Citizen     White   \n",
              "\n",
              "  Region  \n",
              "0  South  \n",
              "1  South  \n",
              "2  South  \n",
              "3  South  \n",
              "4  South  \n",
              "5  South  \n",
              "6  South  \n",
              "7  South  \n",
              "8  South  \n",
              "9  South  "
            ]
          },
          "execution_count": 146,
          "metadata": {},
          "output_type": "execute_result"
        }
      ],
      "source": [
        "depression.head(10)"
      ]
    },
    {
      "cell_type": "code",
      "execution_count": null,
      "metadata": {
        "id": "qW7udzZ9BXiR"
      },
      "outputs": [],
      "source": [
        "depression_all = depression.drop(['Nativity', 'Citizenship'], axis = 1)"
      ]
    },
    {
      "cell_type": "code",
      "execution_count": null,
      "metadata": {
        "id": "Eh2fd_yLBXiS",
        "outputId": "b96ad06e-7b27-4180-e753-f046509b6a9e"
      },
      "outputs": [
        {
          "data": {
            "text/html": [
              "<div>\n",
              "<style scoped>\n",
              "    .dataframe tbody tr th:only-of-type {\n",
              "        vertical-align: middle;\n",
              "    }\n",
              "\n",
              "    .dataframe tbody tr th {\n",
              "        vertical-align: top;\n",
              "    }\n",
              "\n",
              "    .dataframe thead th {\n",
              "        text-align: right;\n",
              "    }\n",
              "</style>\n",
              "<table border=\"1\" class=\"dataframe\">\n",
              "  <thead>\n",
              "    <tr style=\"text-align: right;\">\n",
              "      <th></th>\n",
              "      <th>Depression</th>\n",
              "      <th>Age</th>\n",
              "      <th>Gender</th>\n",
              "      <th>Education</th>\n",
              "      <th>Income</th>\n",
              "      <th>Marital</th>\n",
              "      <th>Health</th>\n",
              "      <th>Insurance</th>\n",
              "      <th>CitySize</th>\n",
              "      <th>Race</th>\n",
              "      <th>Region</th>\n",
              "    </tr>\n",
              "  </thead>\n",
              "  <tbody>\n",
              "    <tr>\n",
              "      <th>0</th>\n",
              "      <td>No</td>\n",
              "      <td>85</td>\n",
              "      <td>Male</td>\n",
              "      <td>4</td>\n",
              "      <td>8.75</td>\n",
              "      <td>Currently Married</td>\n",
              "      <td>4</td>\n",
              "      <td>Insured</td>\n",
              "      <td>2</td>\n",
              "      <td>White</td>\n",
              "      <td>South</td>\n",
              "    </tr>\n",
              "    <tr>\n",
              "      <th>1</th>\n",
              "      <td>No</td>\n",
              "      <td>39</td>\n",
              "      <td>Male</td>\n",
              "      <td>4</td>\n",
              "      <td>6.25</td>\n",
              "      <td>Currently not married</td>\n",
              "      <td>4</td>\n",
              "      <td>Insured</td>\n",
              "      <td>2</td>\n",
              "      <td>White</td>\n",
              "      <td>South</td>\n",
              "    </tr>\n",
              "    <tr>\n",
              "      <th>2</th>\n",
              "      <td>No</td>\n",
              "      <td>42</td>\n",
              "      <td>Male</td>\n",
              "      <td>3</td>\n",
              "      <td>8.75</td>\n",
              "      <td>Currently not married</td>\n",
              "      <td>3</td>\n",
              "      <td>Insured</td>\n",
              "      <td>2</td>\n",
              "      <td>Black</td>\n",
              "      <td>South</td>\n",
              "    </tr>\n",
              "    <tr>\n",
              "      <th>3</th>\n",
              "      <td>No</td>\n",
              "      <td>32</td>\n",
              "      <td>Male</td>\n",
              "      <td>6</td>\n",
              "      <td>6.25</td>\n",
              "      <td>Currently not married</td>\n",
              "      <td>5</td>\n",
              "      <td>Insured</td>\n",
              "      <td>2</td>\n",
              "      <td>Hispanic</td>\n",
              "      <td>South</td>\n",
              "    </tr>\n",
              "    <tr>\n",
              "      <th>4</th>\n",
              "      <td>Yes</td>\n",
              "      <td>85</td>\n",
              "      <td>Female</td>\n",
              "      <td>3</td>\n",
              "      <td>3.75</td>\n",
              "      <td>Currently not married</td>\n",
              "      <td>3</td>\n",
              "      <td>Insured</td>\n",
              "      <td>2</td>\n",
              "      <td>White</td>\n",
              "      <td>South</td>\n",
              "    </tr>\n",
              "  </tbody>\n",
              "</table>\n",
              "</div>"
            ],
            "text/plain": [
              "  Depression  Age  Gender  Education  Income                Marital  Health  \\\n",
              "0         No   85    Male          4    8.75      Currently Married       4   \n",
              "1         No   39    Male          4    6.25  Currently not married       4   \n",
              "2         No   42    Male          3    8.75  Currently not married       3   \n",
              "3         No   32    Male          6    6.25  Currently not married       5   \n",
              "4        Yes   85  Female          3    3.75  Currently not married       3   \n",
              "\n",
              "  Insurance  CitySize      Race Region  \n",
              "0   Insured         2     White  South  \n",
              "1   Insured         2     White  South  \n",
              "2   Insured         2     Black  South  \n",
              "3   Insured         2  Hispanic  South  \n",
              "4   Insured         2     White  South  "
            ]
          },
          "execution_count": 150,
          "metadata": {},
          "output_type": "execute_result"
        }
      ],
      "source": [
        "depression_all.head()"
      ]
    },
    {
      "cell_type": "code",
      "execution_count": null,
      "metadata": {
        "id": "vsHIDyeWBXiS",
        "outputId": "b1e69367-2527-4b7d-c2fc-ce3b785ac4a4"
      },
      "outputs": [
        {
          "data": {
            "text/plain": [
              "<AxesSubplot:>"
            ]
          },
          "execution_count": 151,
          "metadata": {},
          "output_type": "execute_result"
        },
        {
          "data": {
            "image/png": "[encoded data removed]",
            "text/plain": [
              "<Figure size 432x288 with 2 Axes>"
            ]
          },
          "metadata": {
            "needs_background": "light"
          },
          "output_type": "display_data"
        }
      ],
      "source": [
        "#check missing values\n",
        "sns.heatmap(depression_all.isnull(), cmap = 'viridis', cbar = True, yticklabels = False)"
      ]
    },
    {
      "cell_type": "code",
      "execution_count": null,
      "metadata": {
        "id": "VcN9Gx0uBXiT",
        "outputId": "9136e54a-6db1-414d-a65a-d59fd5e05c6c"
      },
      "outputs": [
        {
          "data": {
            "text/plain": [
              "30145"
            ]
          },
          "execution_count": 152,
          "metadata": {},
          "output_type": "execute_result"
        }
      ],
      "source": [
        "# number of observations in dataset\n",
        "depression_all.shape[0]"
      ]
    },
    {
      "cell_type": "code",
      "execution_count": null,
      "metadata": {
        "id": "VibVAMf0BXiT"
      },
      "outputs": [],
      "source": [
        "# drop missing values\n",
        "depression_allclean = depression_all.dropna()"
      ]
    },
    {
      "cell_type": "code",
      "execution_count": null,
      "metadata": {
        "id": "fz5t8kJ8BXiT",
        "outputId": "ec78fe70-6d59-4db0-b81b-858c6ed0eefd"
      },
      "outputs": [
        {
          "data": {
            "text/plain": [
              "30145"
            ]
          },
          "execution_count": 154,
          "metadata": {},
          "output_type": "execute_result"
        }
      ],
      "source": [
        "# check new sample size\n",
        "depression_allclean.shape[0]"
      ]
    },
    {
      "cell_type": "code",
      "execution_count": null,
      "metadata": {
        "id": "FPcXpSD-BXiU",
        "outputId": "8af79d91-c74d-4fb0-af48-a9ff29e34ce7"
      },
      "outputs": [
        {
          "name": "stdout",
          "output_type": "stream",
          "text": [
            "0 samples removed\n"
          ]
        }
      ],
      "source": [
        "print(depression_all.shape[0] - depression_allclean.shape[0], \"samples removed\")"
      ]
    },
    {
      "cell_type": "code",
      "execution_count": null,
      "metadata": {
        "id": "JwUfFg8cBXiU"
      },
      "outputs": [],
      "source": [
        "# DV is binomial. Recode it to 0 and 1\n",
        "depression_allclean.Depression = depression_allclean.Depression.map({'Yes':1, 'No':0})"
      ]
    },
    {
      "cell_type": "code",
      "execution_count": null,
      "metadata": {
        "id": "DXNn8Sr9BXiU",
        "outputId": "87764fb5-0fdf-4532-fd6a-af167f933dfe"
      },
      "outputs": [
        {
          "data": {
            "text/html": [
              "<div>\n",
              "<style scoped>\n",
              "    .dataframe tbody tr th:only-of-type {\n",
              "        vertical-align: middle;\n",
              "    }\n",
              "\n",
              "    .dataframe tbody tr th {\n",
              "        vertical-align: top;\n",
              "    }\n",
              "\n",
              "    .dataframe thead th {\n",
              "        text-align: right;\n",
              "    }\n",
              "</style>\n",
              "<table border=\"1\" class=\"dataframe\">\n",
              "  <thead>\n",
              "    <tr style=\"text-align: right;\">\n",
              "      <th></th>\n",
              "      <th>Depression</th>\n",
              "      <th>Age</th>\n",
              "      <th>Gender</th>\n",
              "      <th>Education</th>\n",
              "      <th>Income</th>\n",
              "      <th>Marital</th>\n",
              "      <th>Health</th>\n",
              "      <th>Insurance</th>\n",
              "      <th>CitySize</th>\n",
              "      <th>Race</th>\n",
              "      <th>Region</th>\n",
              "    </tr>\n",
              "  </thead>\n",
              "  <tbody>\n",
              "    <tr>\n",
              "      <th>0</th>\n",
              "      <td>0</td>\n",
              "      <td>85</td>\n",
              "      <td>Male</td>\n",
              "      <td>4</td>\n",
              "      <td>8.75</td>\n",
              "      <td>Currently Married</td>\n",
              "      <td>4</td>\n",
              "      <td>Insured</td>\n",
              "      <td>2</td>\n",
              "      <td>White</td>\n",
              "      <td>South</td>\n",
              "    </tr>\n",
              "    <tr>\n",
              "      <th>1</th>\n",
              "      <td>0</td>\n",
              "      <td>39</td>\n",
              "      <td>Male</td>\n",
              "      <td>4</td>\n",
              "      <td>6.25</td>\n",
              "      <td>Currently not married</td>\n",
              "      <td>4</td>\n",
              "      <td>Insured</td>\n",
              "      <td>2</td>\n",
              "      <td>White</td>\n",
              "      <td>South</td>\n",
              "    </tr>\n",
              "    <tr>\n",
              "      <th>2</th>\n",
              "      <td>0</td>\n",
              "      <td>42</td>\n",
              "      <td>Male</td>\n",
              "      <td>3</td>\n",
              "      <td>8.75</td>\n",
              "      <td>Currently not married</td>\n",
              "      <td>3</td>\n",
              "      <td>Insured</td>\n",
              "      <td>2</td>\n",
              "      <td>Black</td>\n",
              "      <td>South</td>\n",
              "    </tr>\n",
              "    <tr>\n",
              "      <th>3</th>\n",
              "      <td>0</td>\n",
              "      <td>32</td>\n",
              "      <td>Male</td>\n",
              "      <td>6</td>\n",
              "      <td>6.25</td>\n",
              "      <td>Currently not married</td>\n",
              "      <td>5</td>\n",
              "      <td>Insured</td>\n",
              "      <td>2</td>\n",
              "      <td>Hispanic</td>\n",
              "      <td>South</td>\n",
              "    </tr>\n",
              "    <tr>\n",
              "      <th>4</th>\n",
              "      <td>1</td>\n",
              "      <td>85</td>\n",
              "      <td>Female</td>\n",
              "      <td>3</td>\n",
              "      <td>3.75</td>\n",
              "      <td>Currently not married</td>\n",
              "      <td>3</td>\n",
              "      <td>Insured</td>\n",
              "      <td>2</td>\n",
              "      <td>White</td>\n",
              "      <td>South</td>\n",
              "    </tr>\n",
              "  </tbody>\n",
              "</table>\n",
              "</div>"
            ],
            "text/plain": [
              "  Depression  Age  Gender  Education  Income                Marital  Health  \\\n",
              "0          0   85    Male          4    8.75      Currently Married       4   \n",
              "1          0   39    Male          4    6.25  Currently not married       4   \n",
              "2          0   42    Male          3    8.75  Currently not married       3   \n",
              "3          0   32    Male          6    6.25  Currently not married       5   \n",
              "4          1   85  Female          3    3.75  Currently not married       3   \n",
              "\n",
              "  Insurance  CitySize      Race Region  \n",
              "0   Insured         2     White  South  \n",
              "1   Insured         2     White  South  \n",
              "2   Insured         2     Black  South  \n",
              "3   Insured         2  Hispanic  South  \n",
              "4   Insured         2     White  South  "
            ]
          },
          "execution_count": 157,
          "metadata": {},
          "output_type": "execute_result"
        }
      ],
      "source": [
        "depression_allclean.head()"
      ]
    },
    {
      "cell_type": "code",
      "execution_count": null,
      "metadata": {
        "id": "NgyYqC6oBXiV",
        "outputId": "8bb93e9a-323f-4be5-8d61-173ff537b79b"
      },
      "outputs": [
        {
          "name": "stderr",
          "output_type": "stream",
          "text": [
            "C:\\Users\\tohaj\\AppData\\Local\\Temp\\ipykernel_5172\\2434153403.py:3: FutureWarning: Passing a set as an indexer is deprecated and will raise in a future version. Use a list instead.\n",
            "  depression_recode = pd.get_dummies(data = depression_allclean, columns = cats, prefix = 'dum', prefix_sep = '_', drop_first = True)\n"
          ]
        },
        {
          "data": {
            "text/html": [
              "<div>\n",
              "<style scoped>\n",
              "    .dataframe tbody tr th:only-of-type {\n",
              "        vertical-align: middle;\n",
              "    }\n",
              "\n",
              "    .dataframe tbody tr th {\n",
              "        vertical-align: top;\n",
              "    }\n",
              "\n",
              "    .dataframe thead th {\n",
              "        text-align: right;\n",
              "    }\n",
              "</style>\n",
              "<table border=\"1\" class=\"dataframe\">\n",
              "  <thead>\n",
              "    <tr style=\"text-align: right;\">\n",
              "      <th></th>\n",
              "      <th>Depression</th>\n",
              "      <th>Age</th>\n",
              "      <th>Education</th>\n",
              "      <th>Income</th>\n",
              "      <th>Health</th>\n",
              "      <th>CitySize</th>\n",
              "      <th>dum_MWest</th>\n",
              "      <th>dum_South</th>\n",
              "      <th>dum_West</th>\n",
              "      <th>dum_White</th>\n",
              "      <th>dum_Black</th>\n",
              "      <th>dum_Asian</th>\n",
              "      <th>dum_Others</th>\n",
              "      <th>dum_Currently Married</th>\n",
              "      <th>dum_Insured</th>\n",
              "      <th>dum_Male</th>\n",
              "    </tr>\n",
              "  </thead>\n",
              "  <tbody>\n",
              "    <tr>\n",
              "      <th>0</th>\n",
              "      <td>0</td>\n",
              "      <td>85</td>\n",
              "      <td>4</td>\n",
              "      <td>8.75</td>\n",
              "      <td>4</td>\n",
              "      <td>2</td>\n",
              "      <td>0</td>\n",
              "      <td>1</td>\n",
              "      <td>0</td>\n",
              "      <td>1</td>\n",
              "      <td>0</td>\n",
              "      <td>0</td>\n",
              "      <td>0</td>\n",
              "      <td>1</td>\n",
              "      <td>1</td>\n",
              "      <td>1</td>\n",
              "    </tr>\n",
              "    <tr>\n",
              "      <th>1</th>\n",
              "      <td>0</td>\n",
              "      <td>39</td>\n",
              "      <td>4</td>\n",
              "      <td>6.25</td>\n",
              "      <td>4</td>\n",
              "      <td>2</td>\n",
              "      <td>0</td>\n",
              "      <td>1</td>\n",
              "      <td>0</td>\n",
              "      <td>1</td>\n",
              "      <td>0</td>\n",
              "      <td>0</td>\n",
              "      <td>0</td>\n",
              "      <td>0</td>\n",
              "      <td>1</td>\n",
              "      <td>1</td>\n",
              "    </tr>\n",
              "    <tr>\n",
              "      <th>2</th>\n",
              "      <td>0</td>\n",
              "      <td>42</td>\n",
              "      <td>3</td>\n",
              "      <td>8.75</td>\n",
              "      <td>3</td>\n",
              "      <td>2</td>\n",
              "      <td>0</td>\n",
              "      <td>1</td>\n",
              "      <td>0</td>\n",
              "      <td>0</td>\n",
              "      <td>1</td>\n",
              "      <td>0</td>\n",
              "      <td>0</td>\n",
              "      <td>0</td>\n",
              "      <td>1</td>\n",
              "      <td>1</td>\n",
              "    </tr>\n",
              "    <tr>\n",
              "      <th>3</th>\n",
              "      <td>0</td>\n",
              "      <td>32</td>\n",
              "      <td>6</td>\n",
              "      <td>6.25</td>\n",
              "      <td>5</td>\n",
              "      <td>2</td>\n",
              "      <td>0</td>\n",
              "      <td>1</td>\n",
              "      <td>0</td>\n",
              "      <td>0</td>\n",
              "      <td>0</td>\n",
              "      <td>0</td>\n",
              "      <td>0</td>\n",
              "      <td>0</td>\n",
              "      <td>1</td>\n",
              "      <td>1</td>\n",
              "    </tr>\n",
              "    <tr>\n",
              "      <th>4</th>\n",
              "      <td>1</td>\n",
              "      <td>85</td>\n",
              "      <td>3</td>\n",
              "      <td>3.75</td>\n",
              "      <td>3</td>\n",
              "      <td>2</td>\n",
              "      <td>0</td>\n",
              "      <td>1</td>\n",
              "      <td>0</td>\n",
              "      <td>1</td>\n",
              "      <td>0</td>\n",
              "      <td>0</td>\n",
              "      <td>0</td>\n",
              "      <td>0</td>\n",
              "      <td>1</td>\n",
              "      <td>0</td>\n",
              "    </tr>\n",
              "  </tbody>\n",
              "</table>\n",
              "</div>"
            ],
            "text/plain": [
              "  Depression  Age  Education  Income  Health  CitySize  dum_MWest  dum_South  \\\n",
              "0          0   85          4    8.75       4         2          0          1   \n",
              "1          0   39          4    6.25       4         2          0          1   \n",
              "2          0   42          3    8.75       3         2          0          1   \n",
              "3          0   32          6    6.25       5         2          0          1   \n",
              "4          1   85          3    3.75       3         2          0          1   \n",
              "\n",
              "   dum_West  dum_White  dum_Black  dum_Asian  dum_Others  \\\n",
              "0         0          1          0          0           0   \n",
              "1         0          1          0          0           0   \n",
              "2         0          0          1          0           0   \n",
              "3         0          0          0          0           0   \n",
              "4         0          1          0          0           0   \n",
              "\n",
              "   dum_Currently Married  dum_Insured  dum_Male  \n",
              "0                      1            1         1  \n",
              "1                      0            1         1  \n",
              "2                      0            1         1  \n",
              "3                      0            1         1  \n",
              "4                      0            1         0  "
            ]
          },
          "execution_count": 158,
          "metadata": {},
          "output_type": "execute_result"
        }
      ],
      "source": [
        "# dummy recode categorical IVs\n",
        "cats = {'Gender', 'Marital', 'Insurance', 'Race', 'Region'}\n",
        "depression_recode = pd.get_dummies(data = depression_allclean, columns = cats, prefix = 'dum', prefix_sep = '_', drop_first = True)\n",
        "depression_recode.head()"
      ]
    },
    {
      "cell_type": "code",
      "execution_count": null,
      "metadata": {
        "id": "LD1LJzgrBXiV",
        "outputId": "8d62d76a-cfb7-4c22-d27a-e8f6b90c4589"
      },
      "outputs": [
        {
          "data": {
            "text/html": [
              "<div>\n",
              "<style scoped>\n",
              "    .dataframe tbody tr th:only-of-type {\n",
              "        vertical-align: middle;\n",
              "    }\n",
              "\n",
              "    .dataframe tbody tr th {\n",
              "        vertical-align: top;\n",
              "    }\n",
              "\n",
              "    .dataframe thead th {\n",
              "        text-align: right;\n",
              "    }\n",
              "</style>\n",
              "<table border=\"1\" class=\"dataframe\">\n",
              "  <thead>\n",
              "    <tr style=\"text-align: right;\">\n",
              "      <th></th>\n",
              "      <th>Depression</th>\n",
              "      <th>Age</th>\n",
              "      <th>Education</th>\n",
              "      <th>Income</th>\n",
              "      <th>Health</th>\n",
              "      <th>CitySize</th>\n",
              "      <th>dum_MWest</th>\n",
              "      <th>dum_South</th>\n",
              "      <th>dum_West</th>\n",
              "      <th>dum_White</th>\n",
              "      <th>dum_Black</th>\n",
              "      <th>dum_Asian</th>\n",
              "      <th>dum_Others</th>\n",
              "      <th>dum_Currently Married</th>\n",
              "      <th>dum_Insured</th>\n",
              "      <th>dum_Male</th>\n",
              "    </tr>\n",
              "  </thead>\n",
              "  <tbody>\n",
              "    <tr>\n",
              "      <th>0</th>\n",
              "      <td>0</td>\n",
              "      <td>85</td>\n",
              "      <td>4</td>\n",
              "      <td>8.75</td>\n",
              "      <td>4</td>\n",
              "      <td>2</td>\n",
              "      <td>0</td>\n",
              "      <td>1</td>\n",
              "      <td>0</td>\n",
              "      <td>1</td>\n",
              "      <td>0</td>\n",
              "      <td>0</td>\n",
              "      <td>0</td>\n",
              "      <td>1</td>\n",
              "      <td>1</td>\n",
              "      <td>1</td>\n",
              "    </tr>\n",
              "    <tr>\n",
              "      <th>1</th>\n",
              "      <td>0</td>\n",
              "      <td>39</td>\n",
              "      <td>4</td>\n",
              "      <td>6.25</td>\n",
              "      <td>4</td>\n",
              "      <td>2</td>\n",
              "      <td>0</td>\n",
              "      <td>1</td>\n",
              "      <td>0</td>\n",
              "      <td>1</td>\n",
              "      <td>0</td>\n",
              "      <td>0</td>\n",
              "      <td>0</td>\n",
              "      <td>0</td>\n",
              "      <td>1</td>\n",
              "      <td>1</td>\n",
              "    </tr>\n",
              "    <tr>\n",
              "      <th>2</th>\n",
              "      <td>0</td>\n",
              "      <td>42</td>\n",
              "      <td>3</td>\n",
              "      <td>8.75</td>\n",
              "      <td>3</td>\n",
              "      <td>2</td>\n",
              "      <td>0</td>\n",
              "      <td>1</td>\n",
              "      <td>0</td>\n",
              "      <td>0</td>\n",
              "      <td>1</td>\n",
              "      <td>0</td>\n",
              "      <td>0</td>\n",
              "      <td>0</td>\n",
              "      <td>1</td>\n",
              "      <td>1</td>\n",
              "    </tr>\n",
              "    <tr>\n",
              "      <th>3</th>\n",
              "      <td>0</td>\n",
              "      <td>32</td>\n",
              "      <td>6</td>\n",
              "      <td>6.25</td>\n",
              "      <td>5</td>\n",
              "      <td>2</td>\n",
              "      <td>0</td>\n",
              "      <td>1</td>\n",
              "      <td>0</td>\n",
              "      <td>0</td>\n",
              "      <td>0</td>\n",
              "      <td>0</td>\n",
              "      <td>0</td>\n",
              "      <td>0</td>\n",
              "      <td>1</td>\n",
              "      <td>1</td>\n",
              "    </tr>\n",
              "    <tr>\n",
              "      <th>4</th>\n",
              "      <td>1</td>\n",
              "      <td>85</td>\n",
              "      <td>3</td>\n",
              "      <td>3.75</td>\n",
              "      <td>3</td>\n",
              "      <td>2</td>\n",
              "      <td>0</td>\n",
              "      <td>1</td>\n",
              "      <td>0</td>\n",
              "      <td>1</td>\n",
              "      <td>0</td>\n",
              "      <td>0</td>\n",
              "      <td>0</td>\n",
              "      <td>0</td>\n",
              "      <td>1</td>\n",
              "      <td>0</td>\n",
              "    </tr>\n",
              "  </tbody>\n",
              "</table>\n",
              "</div>"
            ],
            "text/plain": [
              "  Depression  Age  Education  Income  Health  CitySize  dum_MWest  dum_South  \\\n",
              "0          0   85          4    8.75       4         2          0          1   \n",
              "1          0   39          4    6.25       4         2          0          1   \n",
              "2          0   42          3    8.75       3         2          0          1   \n",
              "3          0   32          6    6.25       5         2          0          1   \n",
              "4          1   85          3    3.75       3         2          0          1   \n",
              "\n",
              "   dum_West  dum_White  dum_Black  dum_Asian  dum_Others  \\\n",
              "0         0          1          0          0           0   \n",
              "1         0          1          0          0           0   \n",
              "2         0          0          1          0           0   \n",
              "3         0          0          0          0           0   \n",
              "4         0          1          0          0           0   \n",
              "\n",
              "   dum_Currently Married  dum_Insured  dum_Male  \n",
              "0                      1            1         1  \n",
              "1                      0            1         1  \n",
              "2                      0            1         1  \n",
              "3                      0            1         1  \n",
              "4                      0            1         0  "
            ]
          },
          "execution_count": 160,
          "metadata": {},
          "output_type": "execute_result"
        }
      ],
      "source": [
        "depression_recode.head()"
      ]
    },
    {
      "cell_type": "code",
      "execution_count": null,
      "metadata": {
        "id": "bEQRMzKsBXiV"
      },
      "outputs": [],
      "source": [
        "# separate IVs from DV\n",
        "X = depression_recode.drop('Depression', axis = 1)\n",
        "y = depression_recode['Depression']"
      ]
    },
    {
      "cell_type": "code",
      "execution_count": null,
      "metadata": {
        "id": "9s7jWfCDBXiV",
        "outputId": "2c9b9b9c-0b0f-478c-a203-809ab528b00b"
      },
      "outputs": [
        {
          "data": {
            "text/html": [
              "<div>\n",
              "<style scoped>\n",
              "    .dataframe tbody tr th:only-of-type {\n",
              "        vertical-align: middle;\n",
              "    }\n",
              "\n",
              "    .dataframe tbody tr th {\n",
              "        vertical-align: top;\n",
              "    }\n",
              "\n",
              "    .dataframe thead th {\n",
              "        text-align: right;\n",
              "    }\n",
              "</style>\n",
              "<table border=\"1\" class=\"dataframe\">\n",
              "  <thead>\n",
              "    <tr style=\"text-align: right;\">\n",
              "      <th></th>\n",
              "      <th>Age</th>\n",
              "      <th>Education</th>\n",
              "      <th>Income</th>\n",
              "      <th>Health</th>\n",
              "      <th>CitySize</th>\n",
              "      <th>dum_MWest</th>\n",
              "      <th>dum_South</th>\n",
              "      <th>dum_West</th>\n",
              "      <th>dum_White</th>\n",
              "      <th>dum_Black</th>\n",
              "      <th>dum_Asian</th>\n",
              "      <th>dum_Others</th>\n",
              "      <th>dum_Currently Married</th>\n",
              "      <th>dum_Insured</th>\n",
              "      <th>dum_Male</th>\n",
              "    </tr>\n",
              "  </thead>\n",
              "  <tbody>\n",
              "    <tr>\n",
              "      <th>0</th>\n",
              "      <td>85</td>\n",
              "      <td>4</td>\n",
              "      <td>8.75</td>\n",
              "      <td>4</td>\n",
              "      <td>2</td>\n",
              "      <td>0</td>\n",
              "      <td>1</td>\n",
              "      <td>0</td>\n",
              "      <td>1</td>\n",
              "      <td>0</td>\n",
              "      <td>0</td>\n",
              "      <td>0</td>\n",
              "      <td>1</td>\n",
              "      <td>1</td>\n",
              "      <td>1</td>\n",
              "    </tr>\n",
              "    <tr>\n",
              "      <th>1</th>\n",
              "      <td>39</td>\n",
              "      <td>4</td>\n",
              "      <td>6.25</td>\n",
              "      <td>4</td>\n",
              "      <td>2</td>\n",
              "      <td>0</td>\n",
              "      <td>1</td>\n",
              "      <td>0</td>\n",
              "      <td>1</td>\n",
              "      <td>0</td>\n",
              "      <td>0</td>\n",
              "      <td>0</td>\n",
              "      <td>0</td>\n",
              "      <td>1</td>\n",
              "      <td>1</td>\n",
              "    </tr>\n",
              "    <tr>\n",
              "      <th>2</th>\n",
              "      <td>42</td>\n",
              "      <td>3</td>\n",
              "      <td>8.75</td>\n",
              "      <td>3</td>\n",
              "      <td>2</td>\n",
              "      <td>0</td>\n",
              "      <td>1</td>\n",
              "      <td>0</td>\n",
              "      <td>0</td>\n",
              "      <td>1</td>\n",
              "      <td>0</td>\n",
              "      <td>0</td>\n",
              "      <td>0</td>\n",
              "      <td>1</td>\n",
              "      <td>1</td>\n",
              "    </tr>\n",
              "    <tr>\n",
              "      <th>3</th>\n",
              "      <td>32</td>\n",
              "      <td>6</td>\n",
              "      <td>6.25</td>\n",
              "      <td>5</td>\n",
              "      <td>2</td>\n",
              "      <td>0</td>\n",
              "      <td>1</td>\n",
              "      <td>0</td>\n",
              "      <td>0</td>\n",
              "      <td>0</td>\n",
              "      <td>0</td>\n",
              "      <td>0</td>\n",
              "      <td>0</td>\n",
              "      <td>1</td>\n",
              "      <td>1</td>\n",
              "    </tr>\n",
              "    <tr>\n",
              "      <th>4</th>\n",
              "      <td>85</td>\n",
              "      <td>3</td>\n",
              "      <td>3.75</td>\n",
              "      <td>3</td>\n",
              "      <td>2</td>\n",
              "      <td>0</td>\n",
              "      <td>1</td>\n",
              "      <td>0</td>\n",
              "      <td>1</td>\n",
              "      <td>0</td>\n",
              "      <td>0</td>\n",
              "      <td>0</td>\n",
              "      <td>0</td>\n",
              "      <td>1</td>\n",
              "      <td>0</td>\n",
              "    </tr>\n",
              "  </tbody>\n",
              "</table>\n",
              "</div>"
            ],
            "text/plain": [
              "   Age  Education  Income  Health  CitySize  dum_MWest  dum_South  dum_West  \\\n",
              "0   85          4    8.75       4         2          0          1         0   \n",
              "1   39          4    6.25       4         2          0          1         0   \n",
              "2   42          3    8.75       3         2          0          1         0   \n",
              "3   32          6    6.25       5         2          0          1         0   \n",
              "4   85          3    3.75       3         2          0          1         0   \n",
              "\n",
              "   dum_White  dum_Black  dum_Asian  dum_Others  dum_Currently Married  \\\n",
              "0          1          0          0           0                      1   \n",
              "1          1          0          0           0                      0   \n",
              "2          0          1          0           0                      0   \n",
              "3          0          0          0           0                      0   \n",
              "4          1          0          0           0                      0   \n",
              "\n",
              "   dum_Insured  dum_Male  \n",
              "0            1         1  \n",
              "1            1         1  \n",
              "2            1         1  \n",
              "3            1         1  \n",
              "4            1         0  "
            ]
          },
          "execution_count": 162,
          "metadata": {},
          "output_type": "execute_result"
        }
      ],
      "source": [
        "X.head()"
      ]
    },
    {
      "cell_type": "code",
      "execution_count": null,
      "metadata": {
        "id": "Cw5C-xrGBXiW",
        "outputId": "8727c365-d1fe-4573-aab7-2acf1dc0e028"
      },
      "outputs": [
        {
          "data": {
            "text/plain": [
              "0    0\n",
              "1    0\n",
              "2    0\n",
              "3    0\n",
              "4    1\n",
              "Name: Depression, dtype: category\n",
              "Categories (2, int64): [0 < 1]"
            ]
          },
          "execution_count": 163,
          "metadata": {},
          "output_type": "execute_result"
        }
      ],
      "source": [
        "y.head()"
      ]
    },
    {
      "cell_type": "code",
      "execution_count": null,
      "metadata": {
        "id": "5VzQB2LLBXiW"
      },
      "outputs": [],
      "source": [
        "# split into train and test\n",
        "X_train, X_test, y_train, y_test = train_test_split(X, y, random_state = 23, train_size = 0.7)"
      ]
    },
    {
      "cell_type": "code",
      "execution_count": null,
      "metadata": {
        "id": "LYjvwNsNBXiW",
        "outputId": "09531052-5c44-4023-c006-c311f7f7a7dc"
      },
      "outputs": [
        {
          "name": "stderr",
          "output_type": "stream",
          "text": [
            "C:\\Users\\tohaj\\AppData\\Roaming\\Python\\Python310\\site-packages\\sklearn\\linear_model\\_logistic.py:444: ConvergenceWarning: lbfgs failed to converge (status=1):\n",
            "STOP: TOTAL NO. of ITERATIONS REACHED LIMIT.\n",
            "\n",
            "Increase the number of iterations (max_iter) or scale the data as shown in:\n",
            "    https://scikit-learn.org/stable/modules/preprocessing.html\n",
            "Please also refer to the documentation for alternative solver options:\n",
            "    https://scikit-learn.org/stable/modules/linear_model.html#logistic-regression\n",
            "  n_iter_i = _check_optimize_result(\n"
          ]
        },
        {
          "data": {
            "text/html": [
              "<style>#sk-container-id-1 {color: black;background-color: white;}#sk-container-id-1 pre{padding: 0;}#sk-container-id-1 div.sk-toggleable {background-color: white;}#sk-container-id-1 label.sk-toggleable__label {cursor: pointer;display: block;width: 100%;margin-bottom: 0;padding: 0.3em;box-sizing: border-box;text-align: center;}#sk-container-id-1 label.sk-toggleable__label-arrow:before {content: \"▸\";float: left;margin-right: 0.25em;color: #696969;}#sk-container-id-1 label.sk-toggleable__label-arrow:hover:before {color: black;}#sk-container-id-1 div.sk-estimator:hover label.sk-toggleable__label-arrow:before {color: black;}#sk-container-id-1 div.sk-toggleable__content {max-height: 0;max-width: 0;overflow: hidden;text-align: left;background-color: #f0f8ff;}#sk-container-id-1 div.sk-toggleable__content pre {margin: 0.2em;color: black;border-radius: 0.25em;background-color: #f0f8ff;}#sk-container-id-1 input.sk-toggleable__control:checked~div.sk-toggleable__content {max-height: 200px;max-width: 100%;overflow: auto;}#sk-container-id-1 input.sk-toggleable__control:checked~label.sk-toggleable__label-arrow:before {content: \"▾\";}#sk-container-id-1 div.sk-estimator input.sk-toggleable__control:checked~label.sk-toggleable__label {background-color: #d4ebff;}#sk-container-id-1 div.sk-label input.sk-toggleable__control:checked~label.sk-toggleable__label {background-color: #d4ebff;}#sk-container-id-1 input.sk-hidden--visually {border: 0;clip: rect(1px 1px 1px 1px);clip: rect(1px, 1px, 1px, 1px);height: 1px;margin: -1px;overflow: hidden;padding: 0;position: absolute;width: 1px;}#sk-container-id-1 div.sk-estimator {font-family: monospace;background-color: #f0f8ff;border: 1px dotted black;border-radius: 0.25em;box-sizing: border-box;margin-bottom: 0.5em;}#sk-container-id-1 div.sk-estimator:hover {background-color: #d4ebff;}#sk-container-id-1 div.sk-parallel-item::after {content: \"\";width: 100%;border-bottom: 1px solid gray;flex-grow: 1;}#sk-container-id-1 div.sk-label:hover label.sk-toggleable__label {background-color: #d4ebff;}#sk-container-id-1 div.sk-serial::before {content: \"\";position: absolute;border-left: 1px solid gray;box-sizing: border-box;top: 0;bottom: 0;left: 50%;z-index: 0;}#sk-container-id-1 div.sk-serial {display: flex;flex-direction: column;align-items: center;background-color: white;padding-right: 0.2em;padding-left: 0.2em;position: relative;}#sk-container-id-1 div.sk-item {position: relative;z-index: 1;}#sk-container-id-1 div.sk-parallel {display: flex;align-items: stretch;justify-content: center;background-color: white;position: relative;}#sk-container-id-1 div.sk-item::before, #sk-container-id-1 div.sk-parallel-item::before {content: \"\";position: absolute;border-left: 1px solid gray;box-sizing: border-box;top: 0;bottom: 0;left: 50%;z-index: -1;}#sk-container-id-1 div.sk-parallel-item {display: flex;flex-direction: column;z-index: 1;position: relative;background-color: white;}#sk-container-id-1 div.sk-parallel-item:first-child::after {align-self: flex-end;width: 50%;}#sk-container-id-1 div.sk-parallel-item:last-child::after {align-self: flex-start;width: 50%;}#sk-container-id-1 div.sk-parallel-item:only-child::after {width: 0;}#sk-container-id-1 div.sk-dashed-wrapped {border: 1px dashed gray;margin: 0 0.4em 0.5em 0.4em;box-sizing: border-box;padding-bottom: 0.4em;background-color: white;}#sk-container-id-1 div.sk-label label {font-family: monospace;font-weight: bold;display: inline-block;line-height: 1.2em;}#sk-container-id-1 div.sk-label-container {text-align: center;}#sk-container-id-1 div.sk-container {/* jupyter's `normalize.less` sets `[hidden] { display: none; }` but bootstrap.min.css set `[hidden] { display: none !important; }` so we also need the `!important` here to be able to override the default hidden behavior on the sphinx rendered scikit-learn.org. See: https://github.com/scikit-learn/scikit-learn/issues/21755 */display: inline-block !important;position: relative;}#sk-container-id-1 div.sk-text-repr-fallback {display: none;}</style><div id=\"sk-container-id-1\" class=\"sk-top-container\"><div class=\"sk-text-repr-fallback\"><pre>LogisticRegression()</pre><b>In a Jupyter environment, please rerun this cell to show the HTML representation or trust the notebook. <br />On GitHub, the HTML representation is unable to render, please try loading this page with nbviewer.org.</b></div><div class=\"sk-container\" hidden><div class=\"sk-item\"><div class=\"sk-estimator sk-toggleable\"><input class=\"sk-toggleable__control sk-hidden--visually\" id=\"sk-estimator-id-1\" type=\"checkbox\" checked><label for=\"sk-estimator-id-1\" class=\"sk-toggleable__label sk-toggleable__label-arrow\">LogisticRegression</label><div class=\"sk-toggleable__content\"><pre>LogisticRegression()</pre></div></div></div></div></div>"
            ],
            "text/plain": [
              "LogisticRegression()"
            ]
          },
          "execution_count": 165,
          "metadata": {},
          "output_type": "execute_result"
        }
      ],
      "source": [
        "# fit the model\n",
        "model = LogisticRegression()\n",
        "model.fit(X_train, y_train)"
      ]
    },
    {
      "cell_type": "markdown",
      "metadata": {
        "id": "0TL0Bz3MBXiW"
      },
      "source": [
        "NB: The model initially didn't fit due to string variables in the data. This was fixed by going back to dummy recode all categorical IVs"
      ]
    },
    {
      "cell_type": "code",
      "execution_count": null,
      "metadata": {
        "id": "VCoKR28-BXiX"
      },
      "outputs": [],
      "source": [
        "#use the model to predict test data\n",
        "y_pred = model.predict(X_test)"
      ]
    },
    {
      "cell_type": "code",
      "execution_count": null,
      "metadata": {
        "id": "nshl-CnhBXiX",
        "outputId": "b02be83d-1666-4015-d916-3331f4786b11"
      },
      "outputs": [
        {
          "data": {
            "text/html": [
              "<div>\n",
              "<style scoped>\n",
              "    .dataframe tbody tr th:only-of-type {\n",
              "        vertical-align: middle;\n",
              "    }\n",
              "\n",
              "    .dataframe tbody tr th {\n",
              "        vertical-align: top;\n",
              "    }\n",
              "\n",
              "    .dataframe thead th {\n",
              "        text-align: right;\n",
              "    }\n",
              "</style>\n",
              "<table border=\"1\" class=\"dataframe\">\n",
              "  <thead>\n",
              "    <tr style=\"text-align: right;\">\n",
              "      <th></th>\n",
              "      <th>Actual</th>\n",
              "      <th>Predicted</th>\n",
              "    </tr>\n",
              "  </thead>\n",
              "  <tbody>\n",
              "    <tr>\n",
              "      <th>0</th>\n",
              "      <td>0</td>\n",
              "      <td>0</td>\n",
              "    </tr>\n",
              "    <tr>\n",
              "      <th>1</th>\n",
              "      <td>0</td>\n",
              "      <td>0</td>\n",
              "    </tr>\n",
              "    <tr>\n",
              "      <th>2</th>\n",
              "      <td>0</td>\n",
              "      <td>0</td>\n",
              "    </tr>\n",
              "    <tr>\n",
              "      <th>3</th>\n",
              "      <td>0</td>\n",
              "      <td>0</td>\n",
              "    </tr>\n",
              "    <tr>\n",
              "      <th>4</th>\n",
              "      <td>0</td>\n",
              "      <td>0</td>\n",
              "    </tr>\n",
              "    <tr>\n",
              "      <th>5</th>\n",
              "      <td>0</td>\n",
              "      <td>0</td>\n",
              "    </tr>\n",
              "    <tr>\n",
              "      <th>6</th>\n",
              "      <td>0</td>\n",
              "      <td>0</td>\n",
              "    </tr>\n",
              "    <tr>\n",
              "      <th>7</th>\n",
              "      <td>0</td>\n",
              "      <td>0</td>\n",
              "    </tr>\n",
              "    <tr>\n",
              "      <th>8</th>\n",
              "      <td>0</td>\n",
              "      <td>0</td>\n",
              "    </tr>\n",
              "    <tr>\n",
              "      <th>9</th>\n",
              "      <td>0</td>\n",
              "      <td>0</td>\n",
              "    </tr>\n",
              "  </tbody>\n",
              "</table>\n",
              "</div>"
            ],
            "text/plain": [
              "   Actual Predicted\n",
              "0       0         0\n",
              "1       0         0\n",
              "2       0         0\n",
              "3       0         0\n",
              "4       0         0\n",
              "5       0         0\n",
              "6       0         0\n",
              "7       0         0\n",
              "8       0         0\n",
              "9       0         0"
            ]
          },
          "execution_count": 167,
          "metadata": {},
          "output_type": "execute_result"
        }
      ],
      "source": [
        "# For comparison, put predicted y and actual y side by side in a table\n",
        "y_pred = pd.Series(y_pred)\n",
        "\n",
        "y_test = y_test.reset_index(drop = True)\n",
        "z = pd.concat([y_pred, y_test], axis = 1)\n",
        "z.columns = ['Actual', 'Predicted']\n",
        "z.head(10)"
      ]
    },
    {
      "cell_type": "code",
      "execution_count": null,
      "metadata": {
        "id": "h3issA39BXiX",
        "outputId": "6f82a274-f7d3-424e-f00e-41d8f23a014c"
      },
      "outputs": [
        {
          "name": "stdout",
          "output_type": "stream",
          "text": [
            "Accuracy: 0.8238611233967271\n",
            "Precision: 0.6439024390243903\n",
            "Recall: 0.07990314769975787\n",
            "R_squared: 0.8238611233967271\n"
          ]
        }
      ],
      "source": [
        "# Evaluate the entire dataset\n",
        "print('Accuracy:', metrics.accuracy_score(y_test, y_pred))\n",
        "print('Precision:', metrics.precision_score(y_test, y_pred))\n",
        "print('Recall:', metrics.recall_score(y_test, y_pred))\n",
        "\n",
        "print('R_squared:', model.score(X_test, y_test)) # same as accuracy above"
      ]
    },
    {
      "cell_type": "markdown",
      "metadata": {
        "id": "gJgcWdvuBXiX"
      },
      "source": [
        "82% accuracy"
      ]
    },
    {
      "cell_type": "markdown",
      "metadata": {
        "id": "XSZkHOCNBXiX"
      },
      "source": [
        "## Confusion Matrix"
      ]
    },
    {
      "cell_type": "code",
      "execution_count": null,
      "metadata": {
        "id": "qbRrH5MZBXiX",
        "outputId": "aded0cd3-4e72-4153-aaa1-d6343dcd4c0e"
      },
      "outputs": [
        {
          "data": {
            "text/plain": [
              "Text(0.5, 15.0, 'Predicted')"
            ]
          },
          "execution_count": 169,
          "metadata": {},
          "output_type": "execute_result"
        },
        {
          "data": {
            "image/png": "[encoded data removed]",
            "text/plain": [
              "<Figure size 432x288 with 2 Axes>"
            ]
          },
          "metadata": {
            "needs_background": "light"
          },
          "output_type": "display_data"
        }
      ],
      "source": [
        "cnf_matrix = metrics.confusion_matrix(y_test, y_pred)\n",
        "\n",
        "labels = [0, 1]\n",
        "fig, ax = plt.subplots()\n",
        "tick_marks = np.arange(len(labels))\n",
        "plt.xticks(tick_marks, labels)\n",
        "plt.yticks(tick_marks, labels)\n",
        "\n",
        "# create heatmap\n",
        "sns.heatmap(pd.DataFrame(cnf_matrix), annot=True, cmap=\"YlGnBu\", fmt='g')\n",
        "ax.xaxis.set_label_position(\"top\")\n",
        "plt.title('Confusion matrix', y=1.1)\n",
        "plt.ylabel('True')\n",
        "plt.xlabel('Predicted')"
      ]
    },
    {
      "cell_type": "code",
      "execution_count": null,
      "metadata": {
        "id": "h62k22TlBXiX"
      },
      "outputs": [],
      "source": []
    }
  ],
  "metadata": {
    "colab": {
      "include_colab_link": true,
      "provenance": []
    },
    "kernelspec": {
      "display_name": "Python 3.10.4 64-bit",
      "language": "python",
      "name": "python3"
    },
    "language_info": {
      "codemirror_mode": {
        "name": "ipython",
        "version": 3
      },
      "file_extension": ".py",
      "mimetype": "text/x-python",
      "name": "python",
      "nbconvert_exporter": "python",
      "pygments_lexer": "ipython3",
      "version": "3.10.4"
    },
    "orig_nbformat": 4,
    "vscode": {
      "interpreter": {
        "hash": "26de051ba29f2982a8de78e945f0abaf191376122a1563185a90213a26c5da77"
      }
    }
  },
  "nbformat": 4,
  "nbformat_minor": 0
}
